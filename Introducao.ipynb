{
 "cells": [
  {
   "cell_type": "markdown",
   "id": "295ef77e",
   "metadata": {},
   "source": [
    "# Sistema de Comunicação\n",
    "\n",
    "Na Figura abaixo tem-se a representação de um sistema de comunicação, cujos componentes são:\n",
    "\n",
    "![SCOM](./Figuras/sistemacomunicacoes.png)\n",
    "\n",
    "- Fonte: onde se origina as mensagens\n",
    "- Transdutor de Entrada: converte as mensagens em sinais elétricos, chamado de sinal em\n",
    "banda básica\n",
    "- **Transmissor:** modifica o sinal em banda básica para uma transmissão eficiente\n",
    "- **Canal:** é o meio de comunicação, fio, cabo, fibra, enlace de rádio\n",
    "- **Distorção e Ruído:** o canal se parece com um fltro, atenua o sinal e distorce\n",
    "sua forma. Em geral, quanto mais distante estiverem fonte e destino mais atenuado será o sinal. A distorção\n",
    "ocorre porque ocorrem atenuações e deslocamentos de fase distintos par cada componente do sinal. Este tipo distorção é chamada de **distorção linear** e pode ser parcialmente corrigida no receptor por um equalizador com características\n",
    "de ganho e fase complementares à do canal.\n",
    "\n",
    "- **Receptor:** realiza o processo inverso ao do transmissor.\n",
    "- Transdutor de saída: converte os sinais elétricos para sua forma original\n",
    "- Destino: para quem se destina a mensagem gerada pela fonte\n",
    "\n",
    "- Distorções não lineares: através da\n",
    "atenuação que varia com a amplitude do sinal. Também pode ser corrigida no receptor.\n",
    "- Ruído: o sinal também pode ser contaminado por sinais indesejáveis\n",
    "chamados de ruído, que são sinais aleatórios e imprevisíveis originados por\n",
    "causas externas e internas ao canal.\n",
    "    - Causas externas: canais vizinhos, ruído gerado pelo homem, relâmpagos, etc.\n",
    "Com um cuidado adequado alguns desses ruídos podem ser eliminados\n",
    "    - Causas internas: movimento \"térmico\" de elétrons em um  condutor,  difusão e recombinação de portadores em semicondutores. Este ruído nunca é eliminado.\n",
    "\n",
    "\n"
   ]
  },
  {
   "cell_type": "code",
   "execution_count": null,
   "id": "5bbac72c",
   "metadata": {},
   "outputs": [],
   "source": []
  }
 ],
 "metadata": {
  "kernelspec": {
   "display_name": "Python 3 (ipykernel)",
   "language": "python",
   "name": "python3"
  },
  "language_info": {
   "codemirror_mode": {
    "name": "ipython",
    "version": 3
   },
   "file_extension": ".py",
   "mimetype": "text/x-python",
   "name": "python",
   "nbconvert_exporter": "python",
   "pygments_lexer": "ipython3",
   "version": "3.9.7"
  }
 },
 "nbformat": 4,
 "nbformat_minor": 5
}
