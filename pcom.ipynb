{
 "cells": [
  {
   "cell_type": "markdown",
   "metadata": {},
   "source": [
    "## Assuntos da disciplina:\n",
    "\n",
    "1. Revisão (superficial e aplicada): <br>\n",
    "    1.1 Série de Fourier: definição e utilização em sinais periódicos;<br>\n",
    "    1.2 Transformada de Fourier: definição e utilização em sinais não periódicos; <br>\n",
    "    1.3 Sinais aleatório: caraterísticas \"estáveis\": média, variância, autocorrelação; Densidade espetral de potência.\n",
    " <br>\n",
    "2. Canais de comunicação: <br>\n",
    "    2.1 Guiados <br>\n",
    "    2.2 Sem fio: em visada, múltiplos percursos, desvanecimento, equalização; <br>\n",
    "3. Modulação Analógica: AM, FM e PM.\n",
    "4. Modulação Digtal: QAM, FSK e PSK. Princípios e representação de sinais.\n",
    "5. Introdução ao 5G.\n"
   ]
  },
  {
   "cell_type": "markdown",
   "metadata": {},
   "source": [
    "## Série de Fourier\n",
    "\n",
    "Sinais periódicos: $$x(t) = x(t + T),\\ \\forall t$$\n",
    "\n",
    "Ex.: $x(t) = cos(2\\pi 100 t)$. qual o período, qual a frequência?\n",
    "\n",
    "Ex.: $x(t) = u(t)\\cos(2\\pi 100 t)$ é periódico?\n",
    "\n",
    "A série de Fourier é uma forma de representar um sinal periódico como uma soma de funções ortogonais.\n",
    "$$ x_p(t) = \\sum_{k=-\\infty}^{\\infty}a_k e^{jk\\omega_0 },\\ T_0 = \\frac{2\\pi}{\\omega_0},$$\n",
    "sendo \n",
    "$a_k = \\frac{1}{T_0}\\int_{<T_0>}x_p(t)e^{-ik\\omega_0 t}dt.$\n",
    "\n",
    "Ex.: $x_p(t) = sen(\\omega_0 t)$ e $y_p(t) = cos(\\omega_0 t).$\n",
    "\n",
    "Ex.: Onda quadrada com média zero."
   ]
  },
  {
   "cell_type": "markdown",
   "metadata": {},
   "source": [
    "## Transformada de Fourier\n",
    "\n",
    "Quando o sinal não é periódico, mas ainda determinístico, pode-se analisar suas componentes em frequência função\n",
    "$$ X(\\omega) = \\int_{-\\infty}^{\\infty} x(t) e^{-j\\omega t}dt$$ e $$x(t) = \\frac{1}{2\\pi}\\int_{-\\infty}^{\\infty} X(\\omega)e^{j\\omega t}d\\omega.$$\n",
    "\n",
    "Ex.: Sinal porta.\n",
    "\n",
    "Propriedades:\n",
    "1. Convolução;\n",
    "2. Multiplicação no tempo.\n",
    "3. Relação de Parseval: $$\\int_{-\\infty}^{\\infty}|x(t)|^2dt = \\frac{1}{2\\pi}\\int_{-\\infty}^{\\infty}|X(\\omega)|^2d\\omega.$$"
   ]
  },
  {
   "cell_type": "markdown",
   "metadata": {},
   "source": [
    "## Sinais Aleatórios\n",
    "\n",
    "Por definição não é possível descrever sinais aleatórios por uma única função, como no caso determínsticos.\n",
    "\n",
    "Ex.: $x(t) = \\cos(\\omega_o t)$, sendo $\\omega_0$ uma variável aleatória.\n",
    "\n",
    "Para analisar esse sinais usamos características comuns a todos os sinais gerados no processo: média, variância, correlação, etc. Vamos nos concentrar na Autocorrelação: $$R(\\tau) = E\\{x(t + \\tau)x^*(\\tau)\\} = R_x(\\tau).$$\n",
    "\n",
    "Espectro de potência: $S(\\omega) = \\mathcal{F}[R_x(\\tau)].$ Obs.:\n",
    "1. $R_x(\\tau) = \\frac{1}{2\\pi}\\int_{-\\infty}^{\\infty}S(\\omega)e^{j\\omega\\tau}d\\omega,$ para $\\tau = 0$ temos $R_x(0) = \\frac{1}{2\\pi}\\int_{-\\infty}^{\\infty}S(\\omega)d\\omega$ que é a potência média.\n",
    "2. $S(\\omega)$ não tem informação sobre a fase.\n",
    "\n",
    "Colocar tabela 10-2, pg. 240 Paapoulis\n",
    "\n",
    "Colocar Exemplos 10-1 e 10-2 Pág, 3341 Papoulis."
   ]
  },
  {
   "cell_type": "markdown",
   "metadata": {},
   "source": [
    "## Sistemas Lineares\n",
    "\n",
    "Sendo $x(t)$ o processo de entrada, $h(t)$ a resposta do sistema e $y(t)$ a saíde temos $$S_{yy}(\\omega) = S_{xx}(\\omega)|H(\\omega)|^2.$$\n",
    "\n",
    "Ex.: Sendo $$H(\\omega) = \\left\\{\\begin{array}{c c} 1 & \\omega_1 < \\omega < \\omega_2 \\\\ 0 & c.c\\end{array}\\right.$$\n",
    "\n",
    "Tem-se  $$S_{yy}(\\omega) = \\left\\{\\begin{array}{c c} S_x(\\omega) & \\omega_1 < \\omega < \\omega_2 \\\\ 0 & c.c\\end{array}\\right.$$"
   ]
  },
  {
   "cell_type": "code",
   "execution_count": null,
   "metadata": {},
   "outputs": [],
   "source": []
  }
 ],
 "metadata": {
  "kernelspec": {
   "display_name": "Python 3 (ipykernel)",
   "language": "python",
   "name": "python3"
  },
  "language_info": {
   "codemirror_mode": {
    "name": "ipython",
    "version": 3
   },
   "file_extension": ".py",
   "mimetype": "text/x-python",
   "name": "python",
   "nbconvert_exporter": "python",
   "pygments_lexer": "ipython3",
   "version": "3.9.7"
  }
 },
 "nbformat": 4,
 "nbformat_minor": 4
}
